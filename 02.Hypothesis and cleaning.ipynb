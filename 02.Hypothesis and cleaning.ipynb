{
 "cells": [
  {
   "cell_type": "markdown",
   "id": "cea6ef70",
   "metadata": {},
   "source": [
    "## Hypothesis"
   ]
  },
  {
   "cell_type": "markdown",
   "id": "7ed42ff8",
   "metadata": {},
   "source": [
    "`The objective of the project is to analyze three hypotheses:`\n",
    "\n",
    "`- The highest number of attacks occurred in the Northern Hemisphere in summer.`\n",
    "\n",
    "`- The highest number of attacks occurred in Australia.`\n",
    "\n",
    "`- Number of attacks depending on the water activity you are doing.`"
   ]
  },
  {
   "cell_type": "markdown",
   "id": "4401ce35",
   "metadata": {},
   "source": [
    "### Libraries 📚"
   ]
  },
  {
   "cell_type": "code",
   "execution_count": 3,
   "id": "2a4aa8e4",
   "metadata": {},
   "outputs": [],
   "source": [
    "import pandas as pd\n",
    "import numpy as np\n",
    "import re\n",
    "import seaborn as sns\n",
    "import src.limpieza_texto as lt"
   ]
  },
  {
   "cell_type": "markdown",
   "id": "f1649ee9",
   "metadata": {},
   "source": [
    "### Cleaning for hypothesis resolution"
   ]
  },
  {
   "cell_type": "markdown",
   "id": "833b5ee2",
   "metadata": {},
   "source": [
    "#### 1ª.Hypothesis"
   ]
  },
  {
   "cell_type": "markdown",
   "id": "de0775ab",
   "metadata": {},
   "source": [
    "##### 1.1 Hemispheres"
   ]
  },
  {
   "cell_type": "code",
   "execution_count": 23,
   "id": "4df56777",
   "metadata": {},
   "outputs": [],
   "source": [
    "df = pd.read_csv(\"midatasetslimpio.csv/attack_cleann.csv\")"
   ]
  },
  {
   "cell_type": "code",
   "execution_count": 24,
   "id": "9602024b",
   "metadata": {},
   "outputs": [
    {
     "data": {
      "text/plain": [
       "USA                 2229\n",
       "AUSTRALIA           1338\n",
       "SOUTH AFRICA         579\n",
       "PAPUA NEW GUINEA     134\n",
       "NEW ZEALAND          128\n",
       "                    ... \n",
       "GUATEMALA              1\n",
       "AFRICA                 1\n",
       "DIEGO GARCIA           1\n",
       "SOUTH CHINA SEA        1\n",
       "OCEAN                  1\n",
       "Name: Country, Length: 212, dtype: int64"
      ]
     },
     "execution_count": 24,
     "metadata": {},
     "output_type": "execute_result"
    }
   ],
   "source": [
    "#If we want to analise the Hemisphere, we have to replace the Countries to Hemispheres.\n",
    "df.Country.value_counts()"
   ]
  },
  {
   "cell_type": "markdown",
   "id": "b6c4ded1",
   "metadata": {},
   "source": [
    "`So first filter out those that are the same but are written differently and then put them together in a new column according to hemisphere.`"
   ]
  },
  {
   "cell_type": "code",
   "execution_count": 25,
   "id": "93face5b",
   "metadata": {},
   "outputs": [],
   "source": [
    "#We make a list of patterns and another one with the hemispheres in which each country is located.\n",
    "regex_countries = [r'^usa', r'^australia', r'^new zealand', r'^south africa', r'^new guinea$', r'^papua new guinea$', r'^brazil$', r'^bahamas$', r'^mexico$', r'^italy$']\n",
    "new_countries_hemisphere = ['Hemisphere-N', 'Hemisphere-S', 'Hemisphere-S', 'Hemisphere-S', 'Hemisphere-S', 'Hemisphere-S', 'Hemisphere-S', 'Hemisphere-N', 'Hemisphere-N', 'Hemisphere-N']"
   ]
  },
  {
   "cell_type": "code",
   "execution_count": 26,
   "id": "f9873a20",
   "metadata": {},
   "outputs": [],
   "source": [
    "#Make a new column with the name \"Hemispheres\" and replace the patterns with the hemispheres.\n",
    "df['Hemispheres'] = df.Country.str.lower().replace(regex_countries, new_countries_hemisphere, regex=True)"
   ]
  },
  {
   "cell_type": "code",
   "execution_count": 27,
   "id": "40e9d86f",
   "metadata": {},
   "outputs": [
    {
     "data": {
      "text/html": [
       "<div>\n",
       "<style scoped>\n",
       "    .dataframe tbody tr th:only-of-type {\n",
       "        vertical-align: middle;\n",
       "    }\n",
       "\n",
       "    .dataframe tbody tr th {\n",
       "        vertical-align: top;\n",
       "    }\n",
       "\n",
       "    .dataframe thead th {\n",
       "        text-align: right;\n",
       "    }\n",
       "</style>\n",
       "<table border=\"1\" class=\"dataframe\">\n",
       "  <thead>\n",
       "    <tr style=\"text-align: right;\">\n",
       "      <th></th>\n",
       "      <th>Unnamed: 0</th>\n",
       "      <th>Date</th>\n",
       "      <th>Country</th>\n",
       "      <th>Activity</th>\n",
       "      <th>Hemispheres</th>\n",
       "    </tr>\n",
       "  </thead>\n",
       "  <tbody>\n",
       "    <tr>\n",
       "      <th>0</th>\n",
       "      <td>0</td>\n",
       "      <td>25-Jun-2018</td>\n",
       "      <td>USA</td>\n",
       "      <td>Paddling</td>\n",
       "      <td>Hemisphere-N</td>\n",
       "    </tr>\n",
       "    <tr>\n",
       "      <th>1</th>\n",
       "      <td>1</td>\n",
       "      <td>18-Jun-2018</td>\n",
       "      <td>USA</td>\n",
       "      <td>Standing</td>\n",
       "      <td>Hemisphere-N</td>\n",
       "    </tr>\n",
       "    <tr>\n",
       "      <th>2</th>\n",
       "      <td>2</td>\n",
       "      <td>09-Jun-2018</td>\n",
       "      <td>USA</td>\n",
       "      <td>Surfing</td>\n",
       "      <td>Hemisphere-N</td>\n",
       "    </tr>\n",
       "    <tr>\n",
       "      <th>3</th>\n",
       "      <td>3</td>\n",
       "      <td>08-Jun-2018</td>\n",
       "      <td>AUSTRALIA</td>\n",
       "      <td>Surfing</td>\n",
       "      <td>Hemisphere-S</td>\n",
       "    </tr>\n",
       "    <tr>\n",
       "      <th>4</th>\n",
       "      <td>4</td>\n",
       "      <td>04-Jun-2018</td>\n",
       "      <td>MEXICO</td>\n",
       "      <td>Free diving</td>\n",
       "      <td>Hemisphere-N</td>\n",
       "    </tr>\n",
       "    <tr>\n",
       "      <th>...</th>\n",
       "      <td>...</td>\n",
       "      <td>...</td>\n",
       "      <td>...</td>\n",
       "      <td>...</td>\n",
       "      <td>...</td>\n",
       "    </tr>\n",
       "    <tr>\n",
       "      <th>6297</th>\n",
       "      <td>6297</td>\n",
       "      <td>Before 1903</td>\n",
       "      <td>AUSTRALIA</td>\n",
       "      <td>Diving</td>\n",
       "      <td>Hemisphere-S</td>\n",
       "    </tr>\n",
       "    <tr>\n",
       "      <th>6298</th>\n",
       "      <td>6298</td>\n",
       "      <td>Before 1903</td>\n",
       "      <td>AUSTRALIA</td>\n",
       "      <td>Pearl diving</td>\n",
       "      <td>Hemisphere-S</td>\n",
       "    </tr>\n",
       "    <tr>\n",
       "      <th>6299</th>\n",
       "      <td>6299</td>\n",
       "      <td>1900-1905</td>\n",
       "      <td>USA</td>\n",
       "      <td>Swimming</td>\n",
       "      <td>Hemisphere-N</td>\n",
       "    </tr>\n",
       "    <tr>\n",
       "      <th>6300</th>\n",
       "      <td>6300</td>\n",
       "      <td>1883-1889</td>\n",
       "      <td>PANAMA</td>\n",
       "      <td>NaN</td>\n",
       "      <td>panama</td>\n",
       "    </tr>\n",
       "    <tr>\n",
       "      <th>6301</th>\n",
       "      <td>6301</td>\n",
       "      <td>1845-1853</td>\n",
       "      <td>CEYLON (SRI LANKA)</td>\n",
       "      <td>Swimming</td>\n",
       "      <td>ceylon (sri lanka)</td>\n",
       "    </tr>\n",
       "  </tbody>\n",
       "</table>\n",
       "<p>6302 rows × 5 columns</p>\n",
       "</div>"
      ],
      "text/plain": [
       "      Unnamed: 0         Date             Country      Activity  \\\n",
       "0              0  25-Jun-2018                 USA      Paddling   \n",
       "1              1  18-Jun-2018                 USA      Standing   \n",
       "2              2  09-Jun-2018                 USA       Surfing   \n",
       "3              3  08-Jun-2018           AUSTRALIA       Surfing   \n",
       "4              4  04-Jun-2018              MEXICO   Free diving   \n",
       "...          ...          ...                 ...           ...   \n",
       "6297        6297  Before 1903           AUSTRALIA        Diving   \n",
       "6298        6298  Before 1903           AUSTRALIA  Pearl diving   \n",
       "6299        6299    1900-1905                 USA      Swimming   \n",
       "6300        6300    1883-1889              PANAMA           NaN   \n",
       "6301        6301    1845-1853  CEYLON (SRI LANKA)      Swimming   \n",
       "\n",
       "             Hemispheres  \n",
       "0           Hemisphere-N  \n",
       "1           Hemisphere-N  \n",
       "2           Hemisphere-N  \n",
       "3           Hemisphere-S  \n",
       "4           Hemisphere-N  \n",
       "...                  ...  \n",
       "6297        Hemisphere-S  \n",
       "6298        Hemisphere-S  \n",
       "6299        Hemisphere-N  \n",
       "6300              panama  \n",
       "6301  ceylon (sri lanka)  \n",
       "\n",
       "[6302 rows x 5 columns]"
      ]
     },
     "execution_count": 27,
     "metadata": {},
     "output_type": "execute_result"
    }
   ],
   "source": [
    "df"
   ]
  },
  {
   "cell_type": "code",
   "execution_count": 28,
   "id": "0fecba10",
   "metadata": {},
   "outputs": [
    {
     "data": {
      "text/plain": [
       "Hemisphere-N                  2498\n",
       "Hemisphere-S                  2301\n",
       "fiji                            65\n",
       "philippines                     61\n",
       "reunion                         60\n",
       "                              ... \n",
       "british virgin islands           1\n",
       "paraguay                         1\n",
       "andaman / nicobar islandas       1\n",
       "admiralty islands                1\n",
       "indian ocean?                    1\n",
       "Name: Hemispheres, Length: 201, dtype: int64"
      ]
     },
     "execution_count": 28,
     "metadata": {},
     "output_type": "execute_result"
    }
   ],
   "source": [
    "#This function give us relevant information, now we can see where most attacks have occurred.\n",
    "df.Hemispheres.value_counts()"
   ]
  },
  {
   "cell_type": "code",
   "execution_count": 29,
   "id": "3c5244f5",
   "metadata": {},
   "outputs": [
    {
     "data": {
      "text/plain": [
       "0             Hemisphere-N\n",
       "1             Hemisphere-N\n",
       "2             Hemisphere-N\n",
       "3             Hemisphere-S\n",
       "4             Hemisphere-N\n",
       "               ...        \n",
       "6297          Hemisphere-S\n",
       "6298          Hemisphere-S\n",
       "6299          Hemisphere-N\n",
       "6300                panama\n",
       "6301    ceylon (sri lanka)\n",
       "Name: Hemispheres, Length: 6302, dtype: object"
      ]
     },
     "execution_count": 29,
     "metadata": {},
     "output_type": "execute_result"
    }
   ],
   "source": [
    "hemisphere = df[\"Hemispheres\"]\n",
    "hemisphere"
   ]
  },
  {
   "cell_type": "code",
   "execution_count": 30,
   "id": "ce613574",
   "metadata": {},
   "outputs": [],
   "source": [
    "list_ = ['Hemisphere-N', 'Hemisphere-S']"
   ]
  },
  {
   "cell_type": "code",
   "execution_count": 31,
   "id": "7baa338e",
   "metadata": {},
   "outputs": [
    {
     "data": {
      "text/plain": [
       "Hemisphere-N    2498\n",
       "Hemisphere-S    2301\n",
       "Name: Hemispheres, dtype: int64"
      ]
     },
     "execution_count": 31,
     "metadata": {},
     "output_type": "execute_result"
    }
   ],
   "source": [
    "df = lt.create(df,'Hemispheres',list_)\n",
    "df.Hemispheres.value_counts()"
   ]
  },
  {
   "cell_type": "markdown",
   "id": "20d62b88",
   "metadata": {},
   "source": [
    "##### 1.2 Months"
   ]
  },
  {
   "cell_type": "code",
   "execution_count": 32,
   "id": "9dedf3e2",
   "metadata": {},
   "outputs": [],
   "source": [
    "#We create a variable with the pattern of the months in order to make a new column with the months\n",
    "pattern = r\"[a-zA-Z]+\"\n",
    "#I know that this go in VSC but it doesn't work\n",
    "def months(patron, string):\n",
    "    import re\n",
    "    try:\n",
    "        return re.search(patron, string).group().lower()\n",
    "    except:\n",
    "        return f\"Error\""
   ]
  },
  {
   "cell_type": "code",
   "execution_count": 33,
   "id": "e51af6b4",
   "metadata": {},
   "outputs": [
    {
     "name": "stderr",
     "output_type": "stream",
     "text": [
      "<ipython-input-33-ead83e1cbe66>:1: SettingWithCopyWarning: \n",
      "A value is trying to be set on a copy of a slice from a DataFrame.\n",
      "Try using .loc[row_indexer,col_indexer] = value instead\n",
      "\n",
      "See the caveats in the documentation: https://pandas.pydata.org/pandas-docs/stable/user_guide/indexing.html#returning-a-view-versus-a-copy\n",
      "  df[\"Months\"] = df.Date.apply(lambda x: months(pattern, x))\n"
     ]
    },
    {
     "data": {
      "text/html": [
       "<div>\n",
       "<style scoped>\n",
       "    .dataframe tbody tr th:only-of-type {\n",
       "        vertical-align: middle;\n",
       "    }\n",
       "\n",
       "    .dataframe tbody tr th {\n",
       "        vertical-align: top;\n",
       "    }\n",
       "\n",
       "    .dataframe thead th {\n",
       "        text-align: right;\n",
       "    }\n",
       "</style>\n",
       "<table border=\"1\" class=\"dataframe\">\n",
       "  <thead>\n",
       "    <tr style=\"text-align: right;\">\n",
       "      <th></th>\n",
       "      <th>Unnamed: 0</th>\n",
       "      <th>Date</th>\n",
       "      <th>Country</th>\n",
       "      <th>Activity</th>\n",
       "      <th>Hemispheres</th>\n",
       "      <th>Months</th>\n",
       "    </tr>\n",
       "  </thead>\n",
       "  <tbody>\n",
       "    <tr>\n",
       "      <th>0</th>\n",
       "      <td>0</td>\n",
       "      <td>25-Jun-2018</td>\n",
       "      <td>USA</td>\n",
       "      <td>Paddling</td>\n",
       "      <td>Hemisphere-N</td>\n",
       "      <td>jun</td>\n",
       "    </tr>\n",
       "    <tr>\n",
       "      <th>1</th>\n",
       "      <td>1</td>\n",
       "      <td>18-Jun-2018</td>\n",
       "      <td>USA</td>\n",
       "      <td>Standing</td>\n",
       "      <td>Hemisphere-N</td>\n",
       "      <td>jun</td>\n",
       "    </tr>\n",
       "    <tr>\n",
       "      <th>2</th>\n",
       "      <td>2</td>\n",
       "      <td>09-Jun-2018</td>\n",
       "      <td>USA</td>\n",
       "      <td>Surfing</td>\n",
       "      <td>Hemisphere-N</td>\n",
       "      <td>jun</td>\n",
       "    </tr>\n",
       "    <tr>\n",
       "      <th>3</th>\n",
       "      <td>3</td>\n",
       "      <td>08-Jun-2018</td>\n",
       "      <td>AUSTRALIA</td>\n",
       "      <td>Surfing</td>\n",
       "      <td>Hemisphere-S</td>\n",
       "      <td>jun</td>\n",
       "    </tr>\n",
       "    <tr>\n",
       "      <th>4</th>\n",
       "      <td>4</td>\n",
       "      <td>04-Jun-2018</td>\n",
       "      <td>MEXICO</td>\n",
       "      <td>Free diving</td>\n",
       "      <td>Hemisphere-N</td>\n",
       "      <td>jun</td>\n",
       "    </tr>\n",
       "  </tbody>\n",
       "</table>\n",
       "</div>"
      ],
      "text/plain": [
       "   Unnamed: 0         Date    Country     Activity   Hemispheres Months\n",
       "0           0  25-Jun-2018        USA     Paddling  Hemisphere-N    jun\n",
       "1           1  18-Jun-2018        USA     Standing  Hemisphere-N    jun\n",
       "2           2  09-Jun-2018        USA      Surfing  Hemisphere-N    jun\n",
       "3           3  08-Jun-2018  AUSTRALIA      Surfing  Hemisphere-S    jun\n",
       "4           4  04-Jun-2018     MEXICO  Free diving  Hemisphere-N    jun"
      ]
     },
     "execution_count": 33,
     "metadata": {},
     "output_type": "execute_result"
    }
   ],
   "source": [
    "df[\"Months\"] = df.Date.apply(lambda x: months(pattern, x))\n",
    "df.head()"
   ]
  },
  {
   "cell_type": "code",
   "execution_count": 34,
   "id": "80e94ea6",
   "metadata": {},
   "outputs": [
    {
     "data": {
      "text/plain": [
       "jul    468\n",
       "aug    422\n",
       "sep    389\n",
       "jan    385\n",
       "jun    356\n",
       "oct    340\n",
       "apr    332\n",
       "dec    329\n",
       "mar    307\n",
       "nov    293\n",
       "feb    288\n",
       "may    273\n",
       "Name: Months, dtype: int64"
      ]
     },
     "execution_count": 34,
     "metadata": {},
     "output_type": "execute_result"
    }
   ],
   "source": [
    "#According to the hypothesis, we want to select the useful information.\n",
    "lista_months = ['jul', 'aug', 'sep', 'jan', 'jun', 'apr', 'oct', 'dec', 'mar', 'nov', 'may', 'feb']\n",
    "df = lt.create(df,'Months',lista_months)\n",
    "df.Months.value_counts()"
   ]
  },
  {
   "cell_type": "markdown",
   "id": "d9424f6d",
   "metadata": {},
   "source": [
    "#### Exporting the Dataset"
   ]
  },
  {
   "cell_type": "code",
   "execution_count": 35,
   "id": "89f7902e",
   "metadata": {},
   "outputs": [],
   "source": [
    "df.to_csv(\"attack_cleanhipotesis.csv\")"
   ]
  },
  {
   "cell_type": "markdown",
   "id": "bc479d27",
   "metadata": {},
   "source": [
    "#### 2ª. Hipótesis"
   ]
  },
  {
   "cell_type": "code",
   "execution_count": 36,
   "id": "a36af613",
   "metadata": {},
   "outputs": [],
   "source": [
    "#We just want the information about the countries\n",
    "lista_country = ['USA', 'AUSTRALIA', 'SOUTH AFRICA', 'PAPUA NEW GUINEA', 'NEW ZEALAND']\n",
    "df = df[df['Country'].isin(lista_country)]"
   ]
  },
  {
   "cell_type": "code",
   "execution_count": 37,
   "id": "c0d0286e",
   "metadata": {},
   "outputs": [
    {
     "data": {
      "text/plain": [
       "USA                 2016\n",
       "AUSTRALIA           1152\n",
       "SOUTH AFRICA         523\n",
       "NEW ZEALAND          100\n",
       "PAPUA NEW GUINEA      81\n",
       "Name: Country, dtype: int64"
      ]
     },
     "execution_count": 37,
     "metadata": {},
     "output_type": "execute_result"
    }
   ],
   "source": [
    "df.Country.value_counts()"
   ]
  },
  {
   "cell_type": "markdown",
   "id": "4307ff46",
   "metadata": {},
   "source": [
    "#### Exporting the Dataset"
   ]
  },
  {
   "cell_type": "code",
   "execution_count": 38,
   "id": "7ffc832c",
   "metadata": {},
   "outputs": [],
   "source": [
    "df.to_csv(\"attack_cleanhipotesis2.csv\")"
   ]
  },
  {
   "cell_type": "markdown",
   "id": "e2e8be59",
   "metadata": {},
   "source": [
    "#### 3ª.Hipótesis"
   ]
  },
  {
   "cell_type": "code",
   "execution_count": 39,
   "id": "0e0911ef",
   "metadata": {},
   "outputs": [],
   "source": [
    "#We have to analyze all the values containing the activity\n",
    "new_activities = ['swimming', 'spearfishing', 'bathing', 'surfing', 'fishing']\n",
    "regex_activity = [r\".*?\\bswimming\\b.*\", r\".*?\\bspearfishing\\b.*\", r\".*?\\bbathing\\b.*\", r\".*?\\bsurfing\\b.*\", r\".*?\\bfishing\\b.*\"] "
   ]
  },
  {
   "cell_type": "code",
   "execution_count": 40,
   "id": "3bcee3a1",
   "metadata": {},
   "outputs": [],
   "source": [
    "df[\"Activities\"] = df.Activity.str.lower().replace(regex_activity, new_activities, regex=True)"
   ]
  },
  {
   "cell_type": "code",
   "execution_count": 41,
   "id": "d2b01998",
   "metadata": {},
   "outputs": [
    {
     "data": {
      "text/html": [
       "<div>\n",
       "<style scoped>\n",
       "    .dataframe tbody tr th:only-of-type {\n",
       "        vertical-align: middle;\n",
       "    }\n",
       "\n",
       "    .dataframe tbody tr th {\n",
       "        vertical-align: top;\n",
       "    }\n",
       "\n",
       "    .dataframe thead th {\n",
       "        text-align: right;\n",
       "    }\n",
       "</style>\n",
       "<table border=\"1\" class=\"dataframe\">\n",
       "  <thead>\n",
       "    <tr style=\"text-align: right;\">\n",
       "      <th></th>\n",
       "      <th>Unnamed: 0</th>\n",
       "      <th>Date</th>\n",
       "      <th>Country</th>\n",
       "      <th>Activity</th>\n",
       "      <th>Hemispheres</th>\n",
       "      <th>Months</th>\n",
       "      <th>Activities</th>\n",
       "    </tr>\n",
       "  </thead>\n",
       "  <tbody>\n",
       "    <tr>\n",
       "      <th>0</th>\n",
       "      <td>0</td>\n",
       "      <td>25-Jun-2018</td>\n",
       "      <td>USA</td>\n",
       "      <td>Paddling</td>\n",
       "      <td>Hemisphere-N</td>\n",
       "      <td>jun</td>\n",
       "      <td>paddling</td>\n",
       "    </tr>\n",
       "    <tr>\n",
       "      <th>1</th>\n",
       "      <td>1</td>\n",
       "      <td>18-Jun-2018</td>\n",
       "      <td>USA</td>\n",
       "      <td>Standing</td>\n",
       "      <td>Hemisphere-N</td>\n",
       "      <td>jun</td>\n",
       "      <td>standing</td>\n",
       "    </tr>\n",
       "    <tr>\n",
       "      <th>2</th>\n",
       "      <td>2</td>\n",
       "      <td>09-Jun-2018</td>\n",
       "      <td>USA</td>\n",
       "      <td>Surfing</td>\n",
       "      <td>Hemisphere-N</td>\n",
       "      <td>jun</td>\n",
       "      <td>surfing</td>\n",
       "    </tr>\n",
       "    <tr>\n",
       "      <th>3</th>\n",
       "      <td>3</td>\n",
       "      <td>08-Jun-2018</td>\n",
       "      <td>AUSTRALIA</td>\n",
       "      <td>Surfing</td>\n",
       "      <td>Hemisphere-S</td>\n",
       "      <td>jun</td>\n",
       "      <td>surfing</td>\n",
       "    </tr>\n",
       "    <tr>\n",
       "      <th>5</th>\n",
       "      <td>5</td>\n",
       "      <td>03-Jun-2018</td>\n",
       "      <td>AUSTRALIA</td>\n",
       "      <td>Kite surfing</td>\n",
       "      <td>Hemisphere-S</td>\n",
       "      <td>jun</td>\n",
       "      <td>surfing</td>\n",
       "    </tr>\n",
       "    <tr>\n",
       "      <th>...</th>\n",
       "      <td>...</td>\n",
       "      <td>...</td>\n",
       "      <td>...</td>\n",
       "      <td>...</td>\n",
       "      <td>...</td>\n",
       "      <td>...</td>\n",
       "      <td>...</td>\n",
       "    </tr>\n",
       "    <tr>\n",
       "      <th>6128</th>\n",
       "      <td>6128</td>\n",
       "      <td>May-17-1803</td>\n",
       "      <td>USA</td>\n",
       "      <td>NaN</td>\n",
       "      <td>Hemisphere-N</td>\n",
       "      <td>may</td>\n",
       "      <td>NaN</td>\n",
       "    </tr>\n",
       "    <tr>\n",
       "      <th>6129</th>\n",
       "      <td>6129</td>\n",
       "      <td>Mar-1803</td>\n",
       "      <td>AUSTRALIA</td>\n",
       "      <td>NaN</td>\n",
       "      <td>Hemisphere-S</td>\n",
       "      <td>mar</td>\n",
       "      <td>NaN</td>\n",
       "    </tr>\n",
       "    <tr>\n",
       "      <th>6136</th>\n",
       "      <td>6136</td>\n",
       "      <td>10-May-1788</td>\n",
       "      <td>AUSTRALIA</td>\n",
       "      <td>Fishing</td>\n",
       "      <td>Hemisphere-S</td>\n",
       "      <td>may</td>\n",
       "      <td>fishing</td>\n",
       "    </tr>\n",
       "    <tr>\n",
       "      <th>6142</th>\n",
       "      <td>6142</td>\n",
       "      <td>08-Aug-1780</td>\n",
       "      <td>USA</td>\n",
       "      <td>Swimming</td>\n",
       "      <td>Hemisphere-N</td>\n",
       "      <td>aug</td>\n",
       "      <td>swimming</td>\n",
       "    </tr>\n",
       "    <tr>\n",
       "      <th>6151</th>\n",
       "      <td>6151</td>\n",
       "      <td>27-Jul-1751</td>\n",
       "      <td>USA</td>\n",
       "      <td>Swimming</td>\n",
       "      <td>Hemisphere-N</td>\n",
       "      <td>jul</td>\n",
       "      <td>swimming</td>\n",
       "    </tr>\n",
       "  </tbody>\n",
       "</table>\n",
       "<p>3872 rows × 7 columns</p>\n",
       "</div>"
      ],
      "text/plain": [
       "      Unnamed: 0         Date    Country      Activity   Hemispheres Months  \\\n",
       "0              0  25-Jun-2018        USA      Paddling  Hemisphere-N    jun   \n",
       "1              1  18-Jun-2018        USA      Standing  Hemisphere-N    jun   \n",
       "2              2  09-Jun-2018        USA       Surfing  Hemisphere-N    jun   \n",
       "3              3  08-Jun-2018  AUSTRALIA       Surfing  Hemisphere-S    jun   \n",
       "5              5  03-Jun-2018  AUSTRALIA  Kite surfing  Hemisphere-S    jun   \n",
       "...          ...          ...        ...           ...           ...    ...   \n",
       "6128        6128  May-17-1803        USA           NaN  Hemisphere-N    may   \n",
       "6129        6129     Mar-1803  AUSTRALIA           NaN  Hemisphere-S    mar   \n",
       "6136        6136  10-May-1788  AUSTRALIA       Fishing  Hemisphere-S    may   \n",
       "6142        6142  08-Aug-1780        USA      Swimming  Hemisphere-N    aug   \n",
       "6151        6151  27-Jul-1751        USA      Swimming  Hemisphere-N    jul   \n",
       "\n",
       "     Activities  \n",
       "0      paddling  \n",
       "1      standing  \n",
       "2       surfing  \n",
       "3       surfing  \n",
       "5       surfing  \n",
       "...         ...  \n",
       "6128        NaN  \n",
       "6129        NaN  \n",
       "6136    fishing  \n",
       "6142   swimming  \n",
       "6151   swimming  \n",
       "\n",
       "[3872 rows x 7 columns]"
      ]
     },
     "execution_count": 41,
     "metadata": {},
     "output_type": "execute_result"
    }
   ],
   "source": [
    "df"
   ]
  },
  {
   "cell_type": "code",
   "execution_count": 42,
   "id": "96fea0f0",
   "metadata": {},
   "outputs": [
    {
     "data": {
      "text/plain": [
       "surfing         952\n",
       "swimming        665\n",
       "fishing         422\n",
       "spearfishing    234\n",
       "bathing          90\n",
       "Name: Activities, dtype: int64"
      ]
     },
     "execution_count": 42,
     "metadata": {},
     "output_type": "execute_result"
    }
   ],
   "source": [
    "list3 = [\"swimming\", \"surfing\", \"fishing\", \"spearfishing\", \"bathing\"]\n",
    "df = lt.create(df,'Activities',list3)\n",
    "df.Activities.value_counts()"
   ]
  },
  {
   "cell_type": "markdown",
   "id": "9497083d",
   "metadata": {},
   "source": [
    "#### Exporting the dataset"
   ]
  },
  {
   "cell_type": "code",
   "execution_count": 44,
   "id": "09ff82db",
   "metadata": {},
   "outputs": [],
   "source": [
    "df.to_csv(\"attack_cleanhipotesis3.csv\")"
   ]
  }
 ],
 "metadata": {
  "kernelspec": {
   "display_name": "ironhack",
   "language": "python",
   "name": "ironhack"
  },
  "language_info": {
   "codemirror_mode": {
    "name": "ipython",
    "version": 3
   },
   "file_extension": ".py",
   "mimetype": "text/x-python",
   "name": "python",
   "nbconvert_exporter": "python",
   "pygments_lexer": "ipython3",
   "version": "3.8.8"
  }
 },
 "nbformat": 4,
 "nbformat_minor": 5
}
